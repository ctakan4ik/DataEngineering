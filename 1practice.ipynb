{
  "nbformat": 4,
  "nbformat_minor": 0,
  "metadata": {
    "colab": {
      "provenance": []
    },
    "kernelspec": {
      "name": "python3",
      "display_name": "Python 3"
    },
    "language_info": {
      "name": "python"
    }
  },
  "cells": [
    {
      "cell_type": "code",
      "execution_count": null,
      "metadata": {
        "id": "hBHnqSsMzG4e"
      },
      "outputs": [],
      "source": [
        "parseIndexedDoubleCol = lambda floatList, index: float(floatList[index])"
      ]
    },
    {
      "cell_type": "code",
      "source": [
        "def parseLine(s,index):\n",
        "  return parseIndexedDoubleCol(s.split(','),index)"
      ],
      "metadata": {
        "id": "5cy5wy-Bzh6N"
      },
      "execution_count": null,
      "outputs": []
    },
    {
      "cell_type": "code",
      "source": [
        "def average(sum,num_col): # реализуйте метод вычисляющий среднее как сумму разделённую на количество\n",
        "  return sum / num_col"
      ],
      "metadata": {
        "id": "NMlh5PfWz0DT"
      },
      "execution_count": null,
      "outputs": []
    },
    {
      "cell_type": "code",
      "source": [
        "num_col = -1\n",
        "sum_housing_med_age = 0\n",
        "sum_rooms = 0\n",
        "sum_population = 0\n",
        "with open('sample_data/california_housing_test.csv') as f:\n",
        "  for line in f: \n",
        "    if num_col == -1:\n",
        "      num_col += 1\n",
        "      continue   \n",
        "    num_col += 1\n",
        "    sum_housing_med_age = sum_housing_med_age + parseLine(line,2)\n",
        "    sum_rooms = sum_rooms + parseLine(line,3)\n",
        "    sum_population = sum_population + parseLine(line,5)\n",
        "\n",
        "print('housing_median_age----->', average(sum_housing_med_age,num_col))\n",
        "print('total_rooms----->', average(sum_rooms,num_col))\n",
        "print('population----->', average(sum_population,num_col))\n"
      ],
      "metadata": {
        "colab": {
          "base_uri": "https://localhost:8080/"
        },
        "id": "YPBhGjsWz6CL",
        "outputId": "2cc2994e-cae9-4019-9c4c-04806be4aab1"
      },
      "execution_count": null,
      "outputs": [
        {
          "output_type": "stream",
          "name": "stdout",
          "text": [
            "housing_median_age-----> 28.845333333333333\n",
            "total_rooms-----> 2599.578666666667\n",
            "population-----> 1402.7986666666666\n"
          ]
        }
      ]
    }
  ]
}