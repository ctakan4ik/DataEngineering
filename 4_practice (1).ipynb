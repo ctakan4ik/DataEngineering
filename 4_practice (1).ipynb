{
  "nbformat": 4,
  "nbformat_minor": 0,
  "metadata": {
    "colab": {
      "provenance": []
    },
    "kernelspec": {
      "name": "python3",
      "display_name": "Python 3"
    },
    "language_info": {
      "name": "python"
    }
  },
  "cells": [
    {
      "cell_type": "markdown",
      "metadata": {
        "id": "LfE3706y8bVK"
      },
      "source": [
        "#Особенности Apache Spark Dataframes\n",
        "Изучите теоретическую часть."
      ]
    },
    {
      "cell_type": "code",
      "metadata": {
        "id": "RGRJOxrFFHhI"
      },
      "source": [
        "# Устанавливаем OpenJDK\n",
        "!apt-get install openjdk-8-jdk-headless -qq > /dev/null\n",
        "# Закачиваем Spark\n",
        "!wget -q http://archive.apache.org/dist/spark/spark-3.2.0/spark-3.2.0-bin-hadoop2.7.tgz -O spark.tgz\n",
        "# Распаковываем архив со Spark\n",
        "!tar xf spark.tgz\n",
        "# Устанавливаем пакет findspark для работы со Spark из Python\n",
        "!pip install -q findspark\n",
        "# Настраиваем переменные окружения для работы с Apache Spark\n",
        "import os\n",
        "os.environ[\"JAVA_HOME\"] = \"/usr/lib/jvm/java-8-openjdk-amd64\"\n",
        "os.environ[\"SPARK_HOME\"] = \"/content/spark-3.2.0-bin-hadoop2.7\"\n",
        "# Находим установку Spark\n",
        "import findspark\n",
        "findspark.init()\n",
        "# Подключаем необходимые модули для работы со Spark из Python\n",
        "from pyspark.sql import SparkSession\n",
        "# Создаем сессию Spark на локальном компьютере\n",
        "spark = SparkSession.builder.master(\"local[*]\").getOrCreate()\n",
        "!wget https://datahub.io/core/population/r/population.json -O population.json -q"
      ],
      "execution_count": 1,
      "outputs": []
    },
    {
      "cell_type": "markdown",
      "metadata": {
        "id": "1um_MOEbhDSq"
      },
      "source": [
        "##Задача\n",
        "Модернизируйте заготовку заменив все участки ```<put your code here>``` на ваш код для того, что бы:\n",
        "* вычислить прирост населения в каждой стране от года к году (воспользуйтесь функцией [lag](https://spark.apache.org/docs/2.3.0/api/sql/#lag) или [lead](https://spark.apache.org/docs/2.3.0/api/sql/#lead))\n",
        "* вычислить средний прирост за период с 1990 по 2018 год\n",
        "* вычислить и вывести на экран страны с трендом на убыль населения с 1990 по 2018 годы\n",
        "\n",
        "\n",
        "Пример вывода на экран:\n",
        "```\n",
        "+------------+-------------------+\n",
        "|Country Name|              trend|\n",
        "+------------+-------------------+\n",
        "|    Bulgaria|-14276.898305084746|\n",
        "|     Hungary|-3532.2542372881358|\n",
        "|      Latvia| -3284.830508474576|\n",
        "+------------+-------------------+\n",
        "```"
      ]
    },
    {
      "cell_type": "code",
      "metadata": {
        "id": "pR1ksTO9YOeo",
        "colab": {
          "base_uri": "https://localhost:8080/",
          "height": 0
        },
        "outputId": "2cf48c7c-30c4-4875-e612-2cf8832c44dc"
      },
      "source": [
        "from pyspark.sql.functions import col, lag, lit, avg\n",
        "from pyspark.sql import Window\n",
        "df = spark.read.json(\"/content/population.json\")\n",
        "windowCountry = Window.partitionBy(\"Country Name\").orderBy(\"Year\")\n",
        "df = df.withColumn('lag', lag(col('Value'), 1,).over(windowCountry))\n",
        "df = df.withColumn('growth_pop', col('Value') - col('lag'))\n",
        "df.show()\n",
        "df = df.where('year > 1989')\n",
        "df = df.where('year < 2019')\n",
        "df = df.groupBy('Country Name').agg(avg('growth_pop').alias('trend'))\n",
        "df.show()\n"
      ],
      "execution_count": 29,
      "outputs": [
        {
          "output_type": "stream",
          "name": "stdout",
          "text": [
            "+------------+------------+-----------+----+-----------+----------+\n",
            "|Country Code|Country Name|      Value|Year|        lag|growth_pop|\n",
            "+------------+------------+-----------+----+-----------+----------+\n",
            "|         AFG| Afghanistan|  8996973.0|1960|       null|      null|\n",
            "|         AFG| Afghanistan|  9169410.0|1961|  8996973.0|  172437.0|\n",
            "|         AFG| Afghanistan|  9351441.0|1962|  9169410.0|  182031.0|\n",
            "|         AFG| Afghanistan|  9543205.0|1963|  9351441.0|  191764.0|\n",
            "|         AFG| Afghanistan|  9744781.0|1964|  9543205.0|  201576.0|\n",
            "|         AFG| Afghanistan|  9956320.0|1965|  9744781.0|  211539.0|\n",
            "|         AFG| Afghanistan|1.0174836E7|1966|  9956320.0|  218516.0|\n",
            "|         AFG| Afghanistan|1.0399926E7|1967|1.0174836E7|  225090.0|\n",
            "|         AFG| Afghanistan|1.0637063E7|1968|1.0399926E7|  237137.0|\n",
            "|         AFG| Afghanistan|1.0893776E7|1969|1.0637063E7|  256713.0|\n",
            "|         AFG| Afghanistan|1.1173642E7|1970|1.0893776E7|  279866.0|\n",
            "|         AFG| Afghanistan|1.1475445E7|1971|1.1173642E7|  301803.0|\n",
            "|         AFG| Afghanistan|1.1791215E7|1972|1.1475445E7|  315770.0|\n",
            "|         AFG| Afghanistan|1.2108963E7|1973|1.1791215E7|  317748.0|\n",
            "|         AFG| Afghanistan| 1.241295E7|1974|1.2108963E7|  303987.0|\n",
            "|         AFG| Afghanistan| 1.268916E7|1975| 1.241295E7|  276210.0|\n",
            "|         AFG| Afghanistan|1.2943093E7|1976| 1.268916E7|  253933.0|\n",
            "|         AFG| Afghanistan|1.3171306E7|1977|1.2943093E7|  228213.0|\n",
            "|         AFG| Afghanistan|1.3341198E7|1978|1.3171306E7|  169892.0|\n",
            "|         AFG| Afghanistan|1.3411056E7|1979|1.3341198E7|   69858.0|\n",
            "+------------+------------+-----------+----+-----------+----------+\n",
            "only showing top 20 rows\n",
            "\n",
            "+-------------------+-------------------+\n",
            "|       Country Name|              trend|\n",
            "+-------------------+-------------------+\n",
            "|        Afghanistan|  872534.7931034482|\n",
            "|            Albania|-12467.827586206897|\n",
            "|            Algeria|  590422.0344827586|\n",
            "|     American Samoa|  330.0344827586207|\n",
            "|            Andorra|  846.8275862068965|\n",
            "|             Angola|   667413.275862069|\n",
            "|Antigua and Barbuda|             1182.0|\n",
            "|         Arab World|  7070228.206896552|\n",
            "|          Argentina|  425736.8275862069|\n",
            "|            Armenia|           -20162.0|\n",
            "|              Aruba| 1545.2758620689656|\n",
            "|          Australia|  281665.1034482759|\n",
            "|            Austria| 42101.862068965514|\n",
            "|         Azerbaijan|  96997.20689655172|\n",
            "|       Bahamas, The|  4617.482758620689|\n",
            "|            Bahrain| 37529.379310344826|\n",
            "|         Bangladesh| 2091742.8275862068|\n",
            "|           Barbados|  920.1379310344828|\n",
            "|            Belarus| -23672.44827586207|\n",
            "|            Belgium|            51571.0|\n",
            "+-------------------+-------------------+\n",
            "only showing top 20 rows\n",
            "\n"
          ]
        }
      ]
    },
    {
      "cell_type": "code",
      "source": [
        "df.where('trend < 0').show()"
      ],
      "metadata": {
        "colab": {
          "base_uri": "https://localhost:8080/",
          "height": 0
        },
        "id": "kjwZWoNY7_HO",
        "outputId": "41f337f1-5187-44fa-ef5e-4dce6bed7eab"
      },
      "execution_count": 30,
      "outputs": [
        {
          "output_type": "stream",
          "name": "stdout",
          "text": [
            "+--------------------+-------------------+\n",
            "|        Country Name|              trend|\n",
            "+--------------------+-------------------+\n",
            "|             Albania|-12467.827586206897|\n",
            "|             Armenia|           -20162.0|\n",
            "|             Belarus| -23672.44827586207|\n",
            "|Bosnia and Herzeg...| -40823.96551724138|\n",
            "|            Bulgaria|  -63859.8275862069|\n",
            "|Central Europe an...| -285852.3448275862|\n",
            "|             Croatia|-23428.172413793105|\n",
            "|             Estonia| -8488.068965517241|\n",
            "|             Georgia| -37129.34482758621|\n",
            "|             Hungary|-24350.172413793105|\n",
            "|              Latvia|-25509.689655172413|\n",
            "|           Lithuania|-30438.344827586207|\n",
            "|             Moldova| -8655.103448275862|\n",
            "|         Puerto Rico|-10706.793103448275|\n",
            "|             Romania|-127424.58620689655|\n",
            "|  Russian Federation|-111825.86206896552|\n",
            "|              Serbia| -21549.85714285714|\n",
            "|             Ukraine|-246568.41379310345|\n",
            "+--------------------+-------------------+\n",
            "\n"
          ]
        }
      ]
    }
  ]
}